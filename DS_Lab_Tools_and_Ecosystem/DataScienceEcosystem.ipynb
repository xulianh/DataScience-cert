{
 "cells": [
  {
   "cell_type": "markdown",
   "id": "68fd8c19",
   "metadata": {},
   "source": [
    "# Data Science Tools and Ecosystem"
   ]
  },
  {
   "cell_type": "markdown",
   "id": "7a22c431",
   "metadata": {},
   "source": [
    "## <b>Author:</B>\n",
    "Julian Hernanz García"
   ]
  },
  {
   "cell_type": "markdown",
   "id": "38e5de9f",
   "metadata": {},
   "source": [
    "In this notebook, Data Science Tools and Ecosystem are summarized."
   ]
  },
  {
   "cell_type": "markdown",
   "id": "1d42f323",
   "metadata": {},
   "source": [
    "<b>Objetives:</b>\n",
    "- using markdown to write comments, headings and tables\n",
    "- writing lists of items\n",
    "- listing popular opensource tools in DataScience\n",
    "- listing popular languajes used by Data Scientifics\n",
    "- writing a few sample arithmetics code"
   ]
  },
  {
   "cell_type": "markdown",
   "id": "507a8e86",
   "metadata": {},
   "source": [
    "Some of the popular languages that Data Scientists use are:\n",
    "- R: together with Python, one of the preffered languajes for data analysis\n",
    "- Python: together with R, one of the preffered languajes for data analysis\n",
    "- Scala: BigData kernel together with Java\n",
    "- Julia: As fast as Fortran or C"
   ]
  },
  {
   "cell_type": "markdown",
   "id": "4a21191c",
   "metadata": {},
   "source": [
    "Some of the commonly used libraries used by Data Scientists include:\n",
    "- Pandas and NumPy, dplyr and stringr for Data manipulation and Scentistic Computing\n",
    "- Scikit-learn and Keras, caret for MachineLeraning and Deep Learning"
   ]
  },
  {
   "cell_type": "markdown",
   "id": "068cce63",
   "metadata": {},
   "source": [
    "Some of the commonly used Data Science tools are:\n",
    "\n",
    "| Data Science Tools |\n",
    "----------------------\n",
    "| VS Code (MS Visual Studio)         |\n",
    "| JupyterLab       |\n",
    "| RStudio            |\n"
   ]
  },
  {
   "cell_type": "markdown",
   "id": "dcba299e",
   "metadata": {},
   "source": [
    "### Below are a few examples of evaluating arithmetic expressions in Python"
   ]
  },
  {
   "cell_type": "code",
   "execution_count": 1,
   "id": "d2488712",
   "metadata": {
    "vscode": {
     "languageId": "r"
    }
   },
   "outputs": [
    {
     "data": {
      "text/html": [
       "17"
      ],
      "text/latex": [
       "17"
      ],
      "text/markdown": [
       "17"
      ],
      "text/plain": [
       "[1] 17"
      ]
     },
     "metadata": {},
     "output_type": "display_data"
    }
   ],
   "source": [
    "# this is a simple arthmetic expression to multiply then add integers\n",
    "(3*4) + 5"
   ]
  },
  {
   "cell_type": "code",
   "execution_count": 2,
   "id": "0396dd95",
   "metadata": {
    "vscode": {
     "languageId": "r"
    }
   },
   "outputs": [
    {
     "data": {
      "text/html": [
       "3.33333333333333"
      ],
      "text/latex": [
       "3.33333333333333"
      ],
      "text/markdown": [
       "3.33333333333333"
      ],
      "text/plain": [
       "[1] 3.333333"
      ]
     },
     "metadata": {},
     "output_type": "display_data"
    }
   ],
   "source": [
    "# This will convert 200 minutes to hours by dividing by 60\n",
    "200 / 60"
   ]
  }
 ],
 "metadata": {
  "kernelspec": {
   "display_name": "R (Portable)",
   "language": "R",
   "name": "r_portable_kernel"
  },
  "language_info": {
   "codemirror_mode": "r",
   "file_extension": ".r",
   "mimetype": "text/x-r-source",
   "name": "R",
   "pygments_lexer": "r",
   "version": "4.5.1"
  }
 },
 "nbformat": 4,
 "nbformat_minor": 5
}
